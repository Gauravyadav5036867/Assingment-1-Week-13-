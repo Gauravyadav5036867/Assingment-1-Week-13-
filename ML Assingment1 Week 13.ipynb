{
 "cells": [
  {
   "cell_type": "code",
   "execution_count": null,
   "id": "960194a6-a0b0-4ee6-a2a2-cdb822623d84",
   "metadata": {},
   "outputs": [],
   "source": [
    "#Question 1\n",
    "\n",
    "1. Artificial Intelligence : Artificial intelligence is the simulation of human intelligence processes by machines, especially computer systems.\n",
    "\n",
    "2. Machine Learning : Machine learning (ML) is a branch of artificial intelligence (AI) and computer science that focuses on the using data and algorithms to enable AI to imitate the way that humans learn, gradually improving its accuracy.\n",
    "\n",
    "3. Deep Learning : Deep learning is a method in artificial intelligence (AI) that teaches computers to process data in a way that is inspired by the human brain.  "
   ]
  },
  {
   "cell_type": "code",
   "execution_count": null,
   "id": "588f7a68-c111-4ee5-b050-87112133a5c4",
   "metadata": {},
   "outputs": [],
   "source": [
    "#Question 2\n",
    "\n",
    "Supervised learning is a category of machine learning that uses labeled datasets to train algorithms to predict outcomes and recognize patterns. \n",
    "\n",
    "Example : Regression , Classification "
   ]
  },
  {
   "cell_type": "code",
   "execution_count": null,
   "id": "e177380a-55f3-4397-8bd5-7c0771a1d124",
   "metadata": {},
   "outputs": [],
   "source": [
    "#Question 3\n",
    "\n",
    "Unsupervised learning in artificial intelligence is a type of machine learning that learns from data without human supervision. Unlike supervised learning, unsupervised machine learning models are given unlabeled data and allowed to discover patterns and insights without any explicit guidance or instruction.\n",
    "\n",
    "Example : \n",
    "Anomaly detection , Clustering"
   ]
  },
  {
   "cell_type": "code",
   "execution_count": null,
   "id": "c0f30ead-b80f-47ec-8770-23bdfc36f817",
   "metadata": {},
   "outputs": [],
   "source": [
    "#Question 4\n",
    "\n",
    "AI : It is smart apllication that can perform its own task without any human intervention.\n",
    "Example: Self Driving Car , Robot \n",
    "\n",
    "ML : It provide statstool to analyze , visualise , predictive models forecastig.\n",
    "Example: Amazon.in , Netflix\n",
    "\n",
    "DL : Mimic the human brain.\n",
    "Example: Object detection , Image recognition \n",
    "\n",
    "DS : Data science can be part of everything."
   ]
  },
  {
   "cell_type": "code",
   "execution_count": null,
   "id": "92c94b87-0a86-48a1-8446-69da0d3db33c",
   "metadata": {},
   "outputs": [],
   "source": [
    "#Question 5\n",
    "\n",
    "Supervised learning is a category of machine learning that uses labeled datasets to train algorithms to predict outcomes and recognize patterns. \n",
    "\n",
    "Example : Regression , Classification \n",
    "\n",
    "\n",
    "Unsupervised learning in artificial intelligence is a type of machine learning that learns from data without human supervision. Unlike supervised learning, unsupervised machine learning models are given unlabeled data and allowed to discover patterns and insights without any explicit guidance or instruction.\n",
    "\n",
    "Example : \n",
    "Anomaly detection , Clustering\n",
    "\n",
    "Semi-supervised learning is a broad category of machine learning techniques that utilizes both labeled and unlabeled data"
   ]
  },
  {
   "cell_type": "code",
   "execution_count": null,
   "id": "b34f26e5-59d8-4488-98ee-563c63c5fae9",
   "metadata": {},
   "outputs": [],
   "source": [
    "#Question 6 \n",
    "\n",
    "Train test split is a model validation process that allows you to check how your model would perform with a new data set. The train-test-validation split helps assess how well a machine learning model will generalize to new, unseen data.\n",
    "\n"
   ]
  },
  {
   "cell_type": "code",
   "execution_count": null,
   "id": "42a1d1ac-7573-4bd5-b42f-e98d636c69d6",
   "metadata": {},
   "outputs": [],
   "source": [
    "#Question 7 \n",
    "\n",
    "Unsupervised machine learning is one of the main branches of machine learning and it has a multitude of applications. One of the most important is anomaly detection: identifying normal patterns within a data sample and then detecting outliers based on the natural characteristics of the data set itself"
   ]
  },
  {
   "cell_type": "code",
   "execution_count": null,
   "id": "a0663a07-a26c-46fa-9815-c35a97f3989b",
   "metadata": {},
   "outputs": [],
   "source": [
    "#Question 8 \n"
   ]
  }
 ],
 "metadata": {
  "kernelspec": {
   "display_name": "Python 3 (ipykernel)",
   "language": "python",
   "name": "python3"
  },
  "language_info": {
   "codemirror_mode": {
    "name": "ipython",
    "version": 3
   },
   "file_extension": ".py",
   "mimetype": "text/x-python",
   "name": "python",
   "nbconvert_exporter": "python",
   "pygments_lexer": "ipython3",
   "version": "3.10.8"
  }
 },
 "nbformat": 4,
 "nbformat_minor": 5
}
